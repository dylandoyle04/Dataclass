{
 "cells": [
  {
   "cell_type": "markdown",
   "id": "9528b2c9-ba31-4ba9-94ad-5942c4bb1a9c",
   "metadata": {},
   "source": [
    "## Dylan Doyle - 10/12/25"
   ]
  },
  {
   "cell_type": "markdown",
   "id": "01460f77-185f-4d62-b248-ec2e2e77ec09",
   "metadata": {},
   "source": [
    "# API Data Report"
   ]
  },
  {
   "cell_type": "markdown",
   "id": "0b0d5d2f-f67f-483e-a3f8-396ade8125be",
   "metadata": {},
   "source": [
    "## Hypothesis - I am using the get posts and the get likes API's. I believe that Accounts with more followers recieve a higher engagement (likes and reposts)per post than accounts without. Statistically this can be tested by correlation analysis between like counts and replies and reposts. I believe that users are more likely to engage with assignments that already have lots of likes because they know a lot of other people enjoy the post and feel comfortable liking it."
   ]
  },
  {
   "cell_type": "markdown",
   "id": "4c4295c2-605a-4f0f-ad91-9101f8598cf6",
   "metadata": {},
   "source": [
    "## I am using app.bsky.feed.getPosts to collect post data. This fits my hypothesis because I need information on posts. I am using app.bsky.feed.getLikes to further understand like paterns to be able to understand patterns and user behavior. These will be reliable due to them being real time data. What makes this data possibly unreliable is that there could be bots or missing deleted posts. The only limitation is the limit to 100 likes per request. Also private account data can not be accessed. "
   ]
  },
  {
   "cell_type": "markdown",
   "id": "2c973bb7-ba60-4c23-b918-39dfb4e13c58",
   "metadata": {},
   "source": [
    "## Importing libraries and loading in API"
   ]
  },
  {
   "cell_type": "code",
   "execution_count": 69,
   "id": "0c363645-67ee-4559-b401-034e5544f389",
   "metadata": {},
   "outputs": [],
   "source": [
    "import requests\n",
    "import time\n",
    "import json as js\n",
    "import pandas as pd\n",
    "from datetime import datetime\n",
    "import base64\n",
    "\n",
    "BASE_URL = \"https://api.bsky.app/xrpc\"\n",
    "endpoint = f\"{BASE_URL}/app.bsky.feed.searchPosts\"\n",
    "headers = {\"User-Agent\": \"EMAT-Teaching/1.0 (+contact@example.com)\"}\n",
    "params = {\n",
    "    \"q\": \"news\",  \n",
    "    \"limit\": 30,\n",
    "}\n",
    "\n"
   ]
  },
  {
   "cell_type": "markdown",
   "id": "17eca4f1-7d2d-457a-aac7-acfb32884650",
   "metadata": {},
   "source": [
    "## Data Collection"
   ]
  },
  {
   "cell_type": "code",
   "execution_count": 70,
   "id": "639d1448-c2d5-4012-8cf8-e1fc49c418c7",
   "metadata": {},
   "outputs": [
    {
     "name": "stdout",
     "output_type": "stream",
     "text": [
      "Search Status: 200\n",
      "Number of posts found: 30\n",
      "Post URIs collected: 30\n"
     ]
    }
   ],
   "source": [
    "\n",
    "\n",
    "resp = requests.get(endpoint, params=params, headers=headers, timeout=30)\n",
    "print(\"Search Status:\", resp.status_code)\n",
    "\n",
    "data = resp.json()\n",
    "posts_from_search = data.get(\"posts\", [])\n",
    "print(f\"Number of posts found: {len(posts_from_search)}\")\n",
    "\n",
    "\n",
    "post_uris = [post['uri'] for post in posts_from_search]\n",
    "print(f\"Post URIs collected: {len(post_uris)}\")\n"
   ]
  },
  {
   "cell_type": "code",
   "execution_count": 42,
   "id": "bd4a17d0-bc9b-4078-89d5-8c96528bd14a",
   "metadata": {},
   "outputs": [
    {
     "name": "stdout",
     "output_type": "stream",
     "text": [
      "Batch 1: Got 10 posts\n",
      "Batch 2: Got 10 posts\n",
      "Batch 3: Got 10 posts\n"
     ]
    }
   ],
   "source": [
    "all_posts_data = []\n",
    "batch_size = 10\n",
    "\n",
    "for i in range(0, len(post_uris), batch_size):\n",
    "    batch_uris = post_uris[i:i + batch_size]\n",
    "    \n",
    "    posts_endpoint = f\"{BASE_URL}/app.bsky.feed.getPosts\"\n",
    "    params = {\"uris\": batch_uris}\n",
    "    \n",
    "    resp = requests.get(posts_endpoint, params=params, headers=headers, timeout=30)\n",
    "    \n",
    "    if resp.status_code == 200:\n",
    "        data = resp.json()\n",
    "        posts = data.get('posts', [])\n",
    "        all_posts_data.extend(posts)\n",
    "        print(f\"Batch {i//batch_size + 1}: Got {len(posts)} posts\")\n",
    "    else:\n",
    "        print(f\"Batch {i//batch_size + 1}: Failed with status {resp.status_code}\")\n",
    "        time.sleep(0.5)\n",
    "\n",
    "        print(f\"Total posts collected: {len(all_posts_data)}\")"
   ]
  },
  {
   "cell_type": "markdown",
   "id": "6b79d4ed-4150-4325-be03-36e2248e5dc2",
   "metadata": {},
   "source": [
    "## Process Posts data"
   ]
  },
  {
   "cell_type": "code",
   "execution_count": 71,
   "id": "040dda9c-7bb2-47dc-99fe-d197cb10463b",
   "metadata": {},
   "outputs": [
    {
     "name": "stdout",
     "output_type": "stream",
     "text": [
      "Posts DataFrame:\n",
      "                                            post_uri  like_count  reply_count  \\\n",
      "0  at://did:plc:j2vin3amzye5ifg24bzqrjep/app.bsky...           1            1   \n",
      "1  at://did:plc:hk4amexkrqze6zjrjpednyui/app.bsky...           0            0   \n",
      "2  at://did:plc:o6ggjvnj4ze3mnrpnv5oravg/app.bsky...           0            0   \n",
      "3  at://did:plc:u4pjym7nkfj3ouzlwlnxosfy/app.bsky...           0            0   \n",
      "4  at://did:plc:apnawo5dla5uw2bffaynqup5/app.bsky...           1            0   \n",
      "\n",
      "   repost_count                        author_did              author_handle  \\\n",
      "0             0  did:plc:j2vin3amzye5ifg24bzqrjep      nparmalee.bsky.social   \n",
      "1             0  did:plc:hk4amexkrqze6zjrjpednyui      lindav138.bsky.social   \n",
      "2             0  did:plc:o6ggjvnj4ze3mnrpnv5oravg              longtail.news   \n",
      "3             0  did:plc:u4pjym7nkfj3ouzlwlnxosfy            fhj.bsky.social   \n",
      "4             0  did:plc:apnawo5dla5uw2bffaynqup5  electronicdan.bsky.social   \n",
      "\n",
      "  author_displayName                                       text_preview  \n",
      "0     Nancy Parmalee  I am not keeping up with the news. I can tell ...  \n",
      "1         Linda Vaux  Oh dear, more lying from an Israeli really isn...  \n",
      "2      Longtail News  Feed: \"Today's Technology News And Resources\"\\...  \n",
      "3                 FJ  www.jpost.com/israel-news/...   I guess when a...  \n",
      "4   Electronic Dan 🟦  The news is at 1 hour, 24 minutes in.\\n\\nThey'...  \n"
     ]
    }
   ],
   "source": [
    "posts_rows = []\n",
    "for post in all_posts_data:\n",
    "    record = post.get('record', {})\n",
    "    author = post.get('author', {})\n",
    "    \n",
    "    posts_rows.append({\n",
    "        \"post_uri\": post.get('uri'),\n",
    "        \"like_count\": post.get('likeCount', 0),\n",
    "        \"reply_count\": post.get('replyCount', 0),\n",
    "        \"repost_count\": post.get('repostCount', 0),\n",
    "        \"author_did\": author.get('did'),\n",
    "        \"author_handle\": author.get('handle'),\n",
    "        \"author_displayName\": author.get('displayName'),\n",
    "        \"text_preview\": record.get('text', '')[:50] + \"...\", \n",
    "    })\n",
    "\n",
    "posts_df = pd.DataFrame(posts_rows)\n",
    "print(\"Posts DataFrame:\")\n",
    "print(posts_df.head())"
   ]
  },
  {
   "cell_type": "markdown",
   "id": "d798a007-56ed-4abd-bf63-244cd7077603",
   "metadata": {},
   "source": [
    "## Getting Follower Counts"
   ]
  },
  {
   "cell_type": "code",
   "execution_count": 49,
   "id": "6a88a8ae-1ddd-47f2-b80e-525c08be07c8",
   "metadata": {},
   "outputs": [
    {
     "name": "stdout",
     "output_type": "stream",
     "text": [
      "Getting profiles for 27 unique authors\n",
      "Profiles DataFrame:\n",
      "                         author_did              author_handle  \\\n",
      "0  did:plc:j2vin3amzye5ifg24bzqrjep      nparmalee.bsky.social   \n",
      "1  did:plc:hk4amexkrqze6zjrjpednyui      lindav138.bsky.social   \n",
      "2  did:plc:o6ggjvnj4ze3mnrpnv5oravg              longtail.news   \n",
      "3  did:plc:u4pjym7nkfj3ouzlwlnxosfy            fhj.bsky.social   \n",
      "4  did:plc:apnawo5dla5uw2bffaynqup5  electronicdan.bsky.social   \n",
      "\n",
      "   followers_count  follows_count  posts_count  \\\n",
      "0             1208            467         2023   \n",
      "1             1185            388         6169   \n",
      "2             1238              4      2443862   \n",
      "3             4276           7909         1497   \n",
      "4             1830           1710          930   \n",
      "\n",
      "                                         description  \n",
      "0  Human geneticist turned data scientist in Seat...  \n",
      "1  A lifelong socialist who is looking for a spar...  \n",
      "2  Custom feeds made up of articles from less com...  \n",
      "3  I am a person who still believes in human bein...  \n",
      "4  🏳️‍🌈\\nA gay, geeky nerd.\\n\\nFan of Classic Doc...  \n"
     ]
    }
   ],
   "source": [
    "unique_authors = posts_df['author_did'].unique().tolist()\n",
    "print(f\"Getting profiles for {len(unique_authors)} unique authors\")\n",
    "\n",
    "profiles_rows = []\n",
    "\n",
    "for author_did in unique_authors:\n",
    "    try:\n",
    "        profile_endpoint = f\"{BASE_URL}/app.bsky.actor.getProfile\"\n",
    "        params = [(\"actor\", author_did)]\n",
    "        \n",
    "        resp = requests.get(profile_endpoint, params=params, headers=headers, timeout=30)\n",
    "        \n",
    "        if resp.status_code == 200:\n",
    "            profile_data = resp.json()\n",
    "            profiles_rows.append({\n",
    "                \"author_did\": profile_data.get('did'),\n",
    "                \"author_handle\": profile_data.get('handle'),\n",
    "                \"followers_count\": profile_data.get('followersCount', 0),\n",
    "                \"follows_count\": profile_data.get('followsCount', 0),\n",
    "                \"posts_count\": profile_data.get('postsCount', 0),\n",
    "                \"description\": profile_data.get('description', '')[:100]\n",
    "            })\n",
    "        else:\n",
    "            print(f\"Failed to get profile for {author_did}: Status {resp.status_code}\")\n",
    "\n",
    "    except Exception as e:  \n",
    "        print(f\"Error getting profile for {author_did}: {e}\")\n",
    "    \n",
    "    time.sleep(0.2)  \n",
    "\n",
    "profiles_df = pd.DataFrame(profiles_rows)\n",
    "print(\"Profiles DataFrame:\")\n",
    "print(profiles_df.head())\n"
   ]
  },
  {
   "cell_type": "markdown",
   "id": "7574da9e-6a9c-4202-a504-8a2d4fe9a4e6",
   "metadata": {},
   "source": [
    "## Detailed Likes for analysis"
   ]
  },
  {
   "cell_type": "code",
   "execution_count": 72,
   "id": "73068a93-9933-4004-a09a-3e5cd36a1b72",
   "metadata": {},
   "outputs": [
    {
     "name": "stdout",
     "output_type": "stream",
     "text": [
      "Selected 4 posts for like analysis\n"
     ]
    }
   ],
   "source": [
    "if not profiles_df.empty and not posts_df.empty:\n",
    "\n",
    "    temp_merge = posts_df.merge(profiles_df, on='author_did', how='left')\n",
    "    high_follower_posts = temp_merge.nlargest(2, 'followers_count')['post_uri'].tolist()\n",
    "    low_follower_posts = temp_merge.nsmallest(2, 'followers_count')['post_uri'].tolist()\n",
    "    selected_posts = high_follower_posts + low_follower_posts\n",
    "    \n",
    "    print(f\"Selected {len(selected_posts)} posts for like analysis\")"
   ]
  },
  {
   "cell_type": "code",
   "execution_count": 51,
   "id": "1d2fe944-286b-40b5-b1c5-181394560c12",
   "metadata": {},
   "outputs": [],
   "source": [
    "likes_rows = []\n",
    "for post_uri in selected_posts:\n",
    "    likes_endpoint = f\"{BASE_URL}/app.bsky.feed.getLikes\"\n",
    "    params = {\n",
    "        \"uri\": post_uri,\n",
    "        \"limit\": 20\n",
    "    }\n",
    "    "
   ]
  },
  {
   "cell_type": "code",
   "execution_count": 67,
   "id": "4b4cb1cb-5955-46d4-a72c-faec1355858a",
   "metadata": {},
   "outputs": [
    {
     "name": "stdout",
     "output_type": "stream",
     "text": [
      "Post at://did:plc:2buz4gf5sew3rdwzb...: 43 likes\n",
      "Post at://did:plc:yosojsta3nm5qiod5...: 47 likes\n",
      "Post at://did:plc:zcwlvbsrp6agrazym...: 7 likes\n",
      "Post at://did:plc:vp2ksrmu6lj5tdpmj...: 0 likes\n",
      "Total detailed likes collected: 97\n",
      "                                            post_uri  \\\n",
      "0  at://did:plc:2buz4gf5sew3rdwzbxsvcd4s/app.bsky...   \n",
      "1  at://did:plc:2buz4gf5sew3rdwzbxsvcd4s/app.bsky...   \n",
      "2  at://did:plc:2buz4gf5sew3rdwzbxsvcd4s/app.bsky...   \n",
      "3  at://did:plc:2buz4gf5sew3rdwzbxsvcd4s/app.bsky...   \n",
      "4  at://did:plc:2buz4gf5sew3rdwzbxsvcd4s/app.bsky...   \n",
      "\n",
      "                 liker_handle                  liked_at  \n",
      "0     laddermatch.bsky.social  2025-10-12T23:46:49.350Z  \n",
      "1  glitterburrito.bsky.social  2025-10-12T23:46:22.051Z  \n",
      "2        goahtani.bsky.social  2025-10-12T23:42:07.383Z  \n",
      "3             theadamzone.xyz  2025-10-12T23:41:47.345Z  \n",
      "4   joshuadaulton.bsky.social  2025-10-12T23:37:30.439Z  \n"
     ]
    }
   ],
   "source": [
    "likes_rows = []\n",
    "\n",
    "for post_uri in selected_posts:\n",
    "    likes_endpoint = f\"{BASE_URL}/app.bsky.feed.getLikes\"\n",
    "    params = {\"uri\": post_uri, \"limit\": 100}\n",
    "    \n",
    "    try:\n",
    "        resp = requests.get(likes_endpoint, params=params, headers=headers, timeout=30)\n",
    "        \n",
    "        if resp.status_code == 200:\n",
    "            likes_data = resp.json()\n",
    "            likes = likes_data.get('likes', [])\n",
    "            \n",
    "            for like in likes:\n",
    "                likes_rows.append({\n",
    "                    \"post_uri\": post_uri,\n",
    "                    \"liker_handle\": like.get('actor', {}).get('handle'),\n",
    "                    \"liked_at\": like.get('createdAt')\n",
    "                })\n",
    "            \n",
    "            print(f\"Post {post_uri[:30]}...: {len(likes)} likes\")\n",
    "        else:\n",
    "            print(f\"Failed for {post_uri[:30]}...: Status {resp.status_code}\")\n",
    "    \n",
    "    except Exception as e:\n",
    "        print(f\"Error getting likes for {post_uri[:30]}...: {e}\")\n",
    "    \n",
    "    time.sleep(0.5) \n",
    "\n",
    "likes_df = pd.DataFrame(likes_rows)\n",
    "print(f\"Total detailed likes collected: {len(likes_df)}\")\n",
    "print(likes_df.head())\n"
   ]
  },
  {
   "cell_type": "markdown",
   "id": "dbe0f306-4a2b-4bb7-818e-ab2ba4900658",
   "metadata": {},
   "source": [
    "## Combining Data and Analysis"
   ]
  },
  {
   "cell_type": "code",
   "execution_count": 60,
   "id": "1439109f-a4ba-49e6-9b93-bf7a5cfc6d55",
   "metadata": {},
   "outputs": [
    {
     "name": "stdout",
     "output_type": "stream",
     "text": [
      "Final combined DataFrame shape: (30, 13)\n"
     ]
    }
   ],
   "source": [
    "final_df = posts_df.merge(\n",
    "    profiles_df,\n",
    "    on='author_did',\n",
    "    how='left'\n",
    ")\n",
    "\n",
    "print(f\"Final combined DataFrame shape: {final_df.shape}\")"
   ]
  },
  {
   "cell_type": "markdown",
   "id": "af427420-707c-488d-81dd-44c54abab45b",
   "metadata": {},
   "source": [
    "## Engagement Metrics"
   ]
  },
  {
   "cell_type": "code",
   "execution_count": 68,
   "id": "a9109c1a-8bce-4b39-8644-09cf327b8acb",
   "metadata": {},
   "outputs": [
    {
     "name": "stdout",
     "output_type": "stream",
     "text": [
      "\n",
      "Basic Statistics:\n",
      "Average followers per account: 19249\n",
      "Average likes per post: 0.77\n",
      "Average reposts per post: 0.13\n",
      "Average total engagement: 0.93\n"
     ]
    }
   ],
   "source": [
    "final_df['total_engagement'] = final_df['like_count'] + final_df['repost_count'] + final_df['reply_count']\n",
    "final_df['engagement_rate'] = final_df['total_engagement'] / final_df['followers_count'].replace(0, 1) \n",
    "\n",
    "print(\"\\nBasic Statistics:\")\n",
    "print(f\"Average followers per account: {final_df['followers_count'].mean():.0f}\")\n",
    "print(f\"Average likes per post: {final_df['like_count'].mean():.2f}\")\n",
    "print(f\"Average reposts per post: {final_df['repost_count'].mean():.2f}\")\n",
    "print(f\"Average total engagement: {final_df['total_engagement'].mean():.2f}\")"
   ]
  },
  {
   "cell_type": "markdown",
   "id": "0e4b8985-f3f6-4e72-9bbc-9901503f7abc",
   "metadata": {},
   "source": [
    "## Correlation Analysis"
   ]
  },
  {
   "cell_type": "code",
   "execution_count": 62,
   "id": "a035b1f2-f369-45bc-982b-e195422a30ff",
   "metadata": {},
   "outputs": [
    {
     "name": "stdout",
     "output_type": "stream",
     "text": [
      "\n",
      "Correlation Analysis:\n",
      "Followers vs Likes: 0.741\n",
      "Followers vs Reposts: 0.362\n",
      "Followers vs Total Engagement: 0.695\n"
     ]
    }
   ],
   "source": [
    "correlation_followers_likes = final_df['followers_count'].corr(final_df['like_count'])\n",
    "correlation_followers_reposts = final_df['followers_count'].corr(final_df['repost_count'])\n",
    "correlation_followers_engagement = final_df['followers_count'].corr(final_df['total_engagement'])\n",
    "\n",
    "print(f\"\\nCorrelation Analysis:\")\n",
    "print(f\"Followers vs Likes: {correlation_followers_likes:.3f}\")\n",
    "print(f\"Followers vs Reposts: {correlation_followers_reposts:.3f}\")\n",
    "print(f\"Followers vs Total Engagement: {correlation_followers_engagement:.3f}\")"
   ]
  },
  {
   "cell_type": "markdown",
   "id": "3e154991-d782-41a4-b44e-57b857b378db",
   "metadata": {},
   "source": [
    "## Comparison Categories"
   ]
  },
  {
   "cell_type": "code",
   "execution_count": 64,
   "id": "2d04948a-1af2-4c31-b31b-23a26354207c",
   "metadata": {},
   "outputs": [
    {
     "name": "stdout",
     "output_type": "stream",
     "text": [
      "\n",
      "Engagement by Follower Category:\n",
      "                   like_count  repost_count  total_engagement  engagement_rate\n",
      "follower_category                                                             \n",
      "Small (<1k)              0.38          0.00              0.38             0.05\n",
      "Medium (1k-10k)          0.27          0.13              0.47             0.00\n",
      "Large (>10k)             7.00          1.00              8.00             0.00\n"
     ]
    },
    {
     "name": "stderr",
     "output_type": "stream",
     "text": [
      "/var/folders/m3/y8lj06jd1jnby6zyttfn2p1m0000gn/T/ipykernel_44239/687252024.py:7: FutureWarning: The default of observed=False is deprecated and will be changed to True in a future version of pandas. Pass observed=False to retain current behavior or observed=True to adopt the future default and silence this warning.\n",
      "  engagement_by_category = final_df.groupby('follower_category').agg({\n"
     ]
    }
   ],
   "source": [
    "final_df['follower_category'] = pd.cut(\n",
    "    final_df['followers_count'],\n",
    "    bins=[0, 1000, 10000, float('inf')],\n",
    "    labels=['Small (<1k)', 'Medium (1k-10k)', 'Large (>10k)']\n",
    ")\n",
    "\n",
    "engagement_by_category = final_df.groupby('follower_category').agg({\n",
    "    'like_count': 'mean',\n",
    "    'repost_count': 'mean',\n",
    "    'total_engagement': 'mean',\n",
    "    'engagement_rate': 'mean'\n",
    "}).round(2)\n",
    "\n",
    "print(\"\\nEngagement by Follower Category:\")\n",
    "print(engagement_by_category)"
   ]
  },
  {
   "cell_type": "markdown",
   "id": "666f5ecf-6baf-4964-9ac7-0a7d4352e14f",
   "metadata": {},
   "source": [
    "# Visualizations for Hypothesis Testing\n",
    "Followers V Likes "
   ]
  },
  {
   "cell_type": "code",
   "execution_count": 65,
   "id": "05b1a86f-c9e3-4f87-8bba-ae957adc190f",
   "metadata": {},
   "outputs": [
    {
     "data": {
      "image/png": "[encoded data removed]",
      "text/plain": [
       "<Figure size 1500x500 with 1 Axes>"
      ]
     },
     "metadata": {},
     "output_type": "display_data"
    }
   ],
   "source": [
    "import matplotlib.pyplot as plt\n",
    "\n",
    "plt.figure(figsize=(15, 5))\n",
    "\n",
    "\n",
    "plt.subplot(1, 3, 1)\n",
    "plt.scatter(final_df['followers_count'], final_df['like_count'], alpha=0.6, color='blue')\n",
    "plt.xscale('log')  \n",
    "plt.xlabel('Followers (log scale)')\n",
    "plt.ylabel('Likes')\n",
    "plt.title('Followers vs Likes')\n",
    "plt.grid(True, alpha=0.3)\n"
   ]
  },
  {
   "cell_type": "markdown",
   "id": "2db7b096-6ed9-40ba-a4bf-e54c6524d9c1",
   "metadata": {},
   "source": [
    "## Followers V Reposts"
   ]
  },
  {
   "cell_type": "code",
   "execution_count": 66,
   "id": "d67d209b-d344-4fcc-928e-f2a51175820d",
   "metadata": {},
   "outputs": [
    {
     "data": {
      "image/png": "[encoded data removed]",
      "text/plain": [
       "<Figure size 640x480 with 1 Axes>"
      ]
     },
     "metadata": {},
     "output_type": "display_data"
    }
   ],
   "source": [
    "plt.subplot(1, 3, 2)\n",
    "plt.scatter(final_df['followers_count'], final_df['repost_count'], alpha=0.6, color='green')\n",
    "plt.xscale('log')\n",
    "plt.xlabel('Followers (log scale)')\n",
    "plt.ylabel('Reposts')\n",
    "plt.title('Followers vs Reposts')\n",
    "plt.grid(True, alpha=0.3)"
   ]
  },
  {
   "cell_type": "markdown",
   "id": "8e926839-9556-4435-afd7-2c3bed4cd198",
   "metadata": {},
   "source": [
    "## Hypothesis Results\n",
    "I found that there is a slight positive correlation between follower count and engagement of posts. Based on my visuals, its clear as I assumed in my hypothesis that likes go up based on your follower count. Reposts don't show it as clear in the visualization but it still does increase based on followers. I faced many challenges during this, I ended up having to restart 3 different times. My main problem was the limited sampling size and properly creating variables that would work best for me."
   ]
  },
  {
   "cell_type": "code",
   "execution_count": null,
   "id": "1208c505-7345-4b4c-bae1-427a090b8b57",
   "metadata": {},
   "outputs": [],
   "source": []
  }
 ],
 "metadata": {
  "kernelspec": {
   "display_name": "Python 3 (ipykernel)",
   "language": "python",
   "name": "python3"
  },
  "language_info": {
   "codemirror_mode": {
    "name": "ipython",
    "version": 3
   },
   "file_extension": ".py",
   "mimetype": "text/x-python",
   "name": "python",
   "nbconvert_exporter": "python",
   "pygments_lexer": "ipython3",
   "version": "3.12.11"
  }
 },
 "nbformat": 4,
 "nbformat_minor": 5
}
