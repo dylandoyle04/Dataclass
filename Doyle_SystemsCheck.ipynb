{
 "cells": [
  {
   "cell_type": "markdown",
   "id": "81cfd6c4-8eff-468a-922f-cb38f82432e7",
   "metadata": {},
   "source": [
    "# Systems Test\n"
   ]
  },
  {
   "cell_type": "markdown",
   "id": "9aa206fe-951d-459e-b891-ba33ea59617c",
   "metadata": {},
   "source": [
    "## Dylan Doyle"
   ]
  },
  {
   "cell_type": "markdown",
   "id": "d58da2c2-91b9-4946-8adf-775fc3c035d8",
   "metadata": {},
   "source": [
    "This is a sample list\n",
    "\n",
    "1. one\n",
    "2. two\n",
    "\n",
    "* one\n",
    "* two"
   ]
  },
  {
   "cell_type": "markdown",
   "id": "24a81df0-8aac-428a-9c53-489d5b438d4e",
   "metadata": {},
   "source": [
    "**Bold Text Test, I want to be able to understand how to recieve data and analyze it**"
   ]
  },
  {
   "cell_type": "markdown",
   "id": "b9dbedd8-08b3-4f12-b3d7-8ba48df0fe90",
   "metadata": {},
   "source": [
    "*Italic text Test, I hope to become confident in python this year*"
   ]
  },
  {
   "cell_type": "code",
   "execution_count": 8,
   "id": "fd301542-8bc9-4ce6-b088-b603d4d3c747",
   "metadata": {},
   "outputs": [
    {
     "name": "stdin",
     "output_type": "stream",
     "text": [
      "Enter Your Name Please:  Dylan\n"
     ]
    },
    {
     "name": "stdout",
     "output_type": "stream",
     "text": [
      "Hello Dylan\n"
     ]
    }
   ],
   "source": [
    "name = input(\"Enter Your Name Please: \")\n",
    "print(\"Hello\", name)"
   ]
  },
  {
   "cell_type": "markdown",
   "id": "8638100a-1815-4c52-8cb1-2e31947f2294",
   "metadata": {},
   "source": [
    "![ducks](https://upload.wikimedia.org/wikipedia/commons/thumb/b/bf/Anas_platyrhynchos_male_female_quadrat.jpg/330px-Anas_platyrhynchos_male_female_quadrat.jpg)"
   ]
  },
  {
   "cell_type": "markdown",
   "id": "ced9e0e8-639d-47a2-b797-f933e789ea4b",
   "metadata": {},
   "source": [
    "## Extra Credit"
   ]
  },
  {
   "cell_type": "code",
   "execution_count": 12,
   "id": "0ad18ddb-ae00-44ac-9281-e02281d18e2e",
   "metadata": {},
   "outputs": [],
   "source": [
    "y = 1"
   ]
  },
  {
   "cell_type": "markdown",
   "id": "399ca849-c0dc-4575-bf00-2e735142173f",
   "metadata": {},
   "source": [
    "## For Loop\n"
   ]
  },
  {
   "cell_type": "code",
   "execution_count": 11,
   "id": "39a38633-9f6a-465c-91fe-2de48ff4abf0",
   "metadata": {},
   "outputs": [
    {
     "name": "stdout",
     "output_type": "stream",
     "text": [
      "1\n",
      "2\n",
      "3\n",
      "4\n",
      "5\n",
      "6\n",
      "7\n",
      "8\n",
      "9\n",
      "10\n"
     ]
    }
   ],
   "source": [
    "for x in range(1,11):\n",
    "    print(x)"
   ]
  },
  {
   "cell_type": "code",
   "execution_count": 13,
   "id": "35d48f35-7a42-4c7e-b53c-658f58569f95",
   "metadata": {},
   "outputs": [
    {
     "name": "stdout",
     "output_type": "stream",
     "text": [
      "extra credit\n"
     ]
    }
   ],
   "source": [
    "print (\"extra credit\")"
   ]
  },
  {
   "cell_type": "code",
   "execution_count": 21,
   "id": "f5beac42-ade2-4613-b656-f365d8123d92",
   "metadata": {},
   "outputs": [],
   "source": [
    "\n",
    "def square(x):\n",
    "    return x * x"
   ]
  },
  {
   "cell_type": "code",
   "execution_count": null,
   "id": "1a4b7932-b04d-48b7-bd13-e2ace8b630a9",
   "metadata": {},
   "outputs": [],
   "source": []
  }
 ],
 "metadata": {
  "kernelspec": {
   "display_name": "Python 3 (ipykernel)",
   "language": "python",
   "name": "python3"
  },
  "language_info": {
   "codemirror_mode": {
    "name": "ipython",
    "version": 3
   },
   "file_extension": ".py",
   "mimetype": "text/x-python",
   "name": "python",
   "nbconvert_exporter": "python",
   "pygments_lexer": "ipython3",
   "version": "3.12.11"
  }
 },
 "nbformat": 4,
 "nbformat_minor": 5
}
