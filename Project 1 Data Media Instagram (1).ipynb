{
 "cells": [
  {
   "cell_type": "code",
   "execution_count": 134,
   "id": "32826c41-9142-4053-8510-58d6d6d35b67",
   "metadata": {},
   "outputs": [],
   "source": [
    "# necessary imports for code\n",
    "import json\n",
    "import pandas as pd\n",
    "import matplotlib as plt"
   ]
  },
  {
   "cell_type": "code",
   "execution_count": 135,
   "id": "d10d4cda-2549-4aff-9392-0d2fa476c44e",
   "metadata": {},
   "outputs": [],
   "source": [
    "\n",
    "likes_path = r\"/Users/dylandoyle-rowan/Downloads/Instagram/your_instagram_activity/likes/liked_posts.json\"\n",
    "with open(likes_path) as j:\n",
    "    dict = json.load(j)"
   ]
  },
  {
   "cell_type": "markdown",
   "id": "072ab897-a9b8-4319-a8a4-5c1460b293ee",
   "metadata": {},
   "source": [
    "# Who or what is the sourse of your personal data?\n",
    "## I am using my Data\n",
    "# Why was this data created and what purposes can the data serve?\n",
    "## I wanted to find out what my likes were and analyze my activity. The purpose is to analyze my data and create a hypothesis based off of it.\n",
    "# In what ways may this data be reliable?\n",
    "## This Data is reliable because It is directly from instagram and has not been edited in anyways. I trust Instagram that they have not tampered with my data\n",
    "# In what ways may this data be unreliable?\n",
    "## I may not have enough data due to not being very active on instagram. I also often view posts and just don't like posts because it is not a habit for me so that may negatively effect my results of analysis."
   ]
  },
  {
   "cell_type": "markdown",
   "id": "0e282d92-3d0a-4180-8c01-510c85a3c51b",
   "metadata": {},
   "source": [
    "# Section 3 \n",
    "## Converting data into DataFrame object and assigning it to new variable using pandas DataFrame function."
   ]
  },
  {
   "cell_type": "code",
   "execution_count": 137,
   "id": "ace3ced1-3366-48cc-a3be-85f5025975da",
   "metadata": {},
   "outputs": [
    {
     "data": {
      "text/html": [
       "<div>\n",
       "<style scoped>\n",
       "    .dataframe tbody tr th:only-of-type {\n",
       "        vertical-align: middle;\n",
       "    }\n",
       "\n",
       "    .dataframe tbody tr th {\n",
       "        vertical-align: top;\n",
       "    }\n",
       "\n",
       "    .dataframe thead th {\n",
       "        text-align: right;\n",
       "    }\n",
       "</style>\n",
       "<table border=\"1\" class=\"dataframe\">\n",
       "  <thead>\n",
       "    <tr style=\"text-align: right;\">\n",
       "      <th></th>\n",
       "      <th>likes_media_likes</th>\n",
       "    </tr>\n",
       "  </thead>\n",
       "  <tbody>\n",
       "    <tr>\n",
       "      <th>0</th>\n",
       "      <td>{'title': 'alex.polisoto', 'string_list_data':...</td>\n",
       "    </tr>\n",
       "    <tr>\n",
       "      <th>1</th>\n",
       "      <td>{'title': 'champagnepapi', 'string_list_data':...</td>\n",
       "    </tr>\n",
       "    <tr>\n",
       "      <th>2</th>\n",
       "      <td>{'title': 'yankeesavenue', 'string_list_data':...</td>\n",
       "    </tr>\n",
       "    <tr>\n",
       "      <th>3</th>\n",
       "      <td>{'title': 'emmagiuliano3', 'string_list_data':...</td>\n",
       "    </tr>\n",
       "    <tr>\n",
       "      <th>4</th>\n",
       "      <td>{'title': 'yankeesavenue', 'string_list_data':...</td>\n",
       "    </tr>\n",
       "  </tbody>\n",
       "</table>\n",
       "</div>"
      ],
      "text/plain": [
       "                                   likes_media_likes\n",
       "0  {'title': 'alex.polisoto', 'string_list_data':...\n",
       "1  {'title': 'champagnepapi', 'string_list_data':...\n",
       "2  {'title': 'yankeesavenue', 'string_list_data':...\n",
       "3  {'title': 'emmagiuliano3', 'string_list_data':...\n",
       "4  {'title': 'yankeesavenue', 'string_list_data':..."
      ]
     },
     "execution_count": 137,
     "metadata": {},
     "output_type": "execute_result"
    }
   ],
   "source": [
    "df = pd.DataFrame(dict)\n",
    "df.head()"
   ]
  },
  {
   "cell_type": "code",
   "execution_count": 139,
   "id": "fb244b4f-b86a-44aa-9e26-de5b12c6bd97",
   "metadata": {},
   "outputs": [
    {
     "data": {
      "text/plain": [
       "dict_keys(['likes_media_likes'])"
      ]
     },
     "execution_count": 139,
     "metadata": {},
     "output_type": "execute_result"
    }
   ],
   "source": [
    "dict.keys()"
   ]
  },
  {
   "cell_type": "code",
   "execution_count": 140,
   "id": "9e01143f-5c22-434a-bf4f-16f61e21e672",
   "metadata": {},
   "outputs": [
    {
     "data": {
      "text/html": [
       "<div>\n",
       "<style scoped>\n",
       "    .dataframe tbody tr th:only-of-type {\n",
       "        vertical-align: middle;\n",
       "    }\n",
       "\n",
       "    .dataframe tbody tr th {\n",
       "        vertical-align: top;\n",
       "    }\n",
       "\n",
       "    .dataframe thead th {\n",
       "        text-align: right;\n",
       "    }\n",
       "</style>\n",
       "<table border=\"1\" class=\"dataframe\">\n",
       "  <thead>\n",
       "    <tr style=\"text-align: right;\">\n",
       "      <th></th>\n",
       "      <th>title</th>\n",
       "      <th>string_list_data</th>\n",
       "    </tr>\n",
       "  </thead>\n",
       "  <tbody>\n",
       "    <tr>\n",
       "      <th>0</th>\n",
       "      <td>alex.polisoto</td>\n",
       "      <td>[{'href': 'https://www.instagram.com/p/DNqQcFu...</td>\n",
       "    </tr>\n",
       "    <tr>\n",
       "      <th>1</th>\n",
       "      <td>champagnepapi</td>\n",
       "      <td>[{'href': 'https://www.instagram.com/reel/DNqi...</td>\n",
       "    </tr>\n",
       "    <tr>\n",
       "      <th>2</th>\n",
       "      <td>yankeesavenue</td>\n",
       "      <td>[{'href': 'https://www.instagram.com/reel/DNmH...</td>\n",
       "    </tr>\n",
       "    <tr>\n",
       "      <th>3</th>\n",
       "      <td>emmagiuliano3</td>\n",
       "      <td>[{'href': 'https://www.instagram.com/p/DNmdFVJ...</td>\n",
       "    </tr>\n",
       "    <tr>\n",
       "      <th>4</th>\n",
       "      <td>yankeesavenue</td>\n",
       "      <td>[{'href': 'https://www.instagram.com/reel/DNma...</td>\n",
       "    </tr>\n",
       "  </tbody>\n",
       "</table>\n",
       "</div>"
      ],
      "text/plain": [
       "           title                                   string_list_data\n",
       "0  alex.polisoto  [{'href': 'https://www.instagram.com/p/DNqQcFu...\n",
       "1  champagnepapi  [{'href': 'https://www.instagram.com/reel/DNqi...\n",
       "2  yankeesavenue  [{'href': 'https://www.instagram.com/reel/DNmH...\n",
       "3  emmagiuliano3  [{'href': 'https://www.instagram.com/p/DNmdFVJ...\n",
       "4  yankeesavenue  [{'href': 'https://www.instagram.com/reel/DNma..."
      ]
     },
     "execution_count": 140,
     "metadata": {},
     "output_type": "execute_result"
    }
   ],
   "source": [
    "df_tidy = pd.DataFrame(dict['likes_media_likes'])\n",
    "df_tidy.head()"
   ]
  },
  {
   "cell_type": "markdown",
   "id": "0884d32c-6cb4-4fb1-8e22-23d70d28d707",
   "metadata": {},
   "source": [
    "## Section 4\n"
   ]
  },
  {
   "cell_type": "code",
   "execution_count": 141,
   "id": "4868293b-dd7e-4bae-9354-99f5a78b4016",
   "metadata": {},
   "outputs": [
    {
     "data": {
      "text/plain": [
       "[{'href': 'https://www.instagram.com/p/DNqQcFutzri/',\n",
       "  'value': 'ð\\x9f\\x91\\x8d',\n",
       "  'timestamp': 1755977322}]"
      ]
     },
     "execution_count": 141,
     "metadata": {},
     "output_type": "execute_result"
    }
   ],
   "source": [
    "df_tidy['string_list_data'].iloc[0]"
   ]
  },
  {
   "cell_type": "code",
   "execution_count": 142,
   "id": "a28c2077-adaa-443d-a53b-df4ae5aac92f",
   "metadata": {},
   "outputs": [
    {
     "data": {
      "text/plain": [
       "list"
      ]
     },
     "execution_count": 142,
     "metadata": {},
     "output_type": "execute_result"
    }
   ],
   "source": [
    "type(df_tidy['string_list_data'].iloc[0])"
   ]
  },
  {
   "cell_type": "code",
   "execution_count": 143,
   "id": "71139124-36ee-4d5a-b789-1950ca7080ef",
   "metadata": {},
   "outputs": [
    {
     "data": {
      "text/plain": [
       "1"
      ]
     },
     "execution_count": 143,
     "metadata": {},
     "output_type": "execute_result"
    }
   ],
   "source": [
    "len(df_tidy['string_list_data'].iloc[0])"
   ]
  },
  {
   "cell_type": "markdown",
   "id": "59d8214b-e41e-4015-8d60-301abf0088d2",
   "metadata": {},
   "source": [
    "df_tidy['string_list_data'].iloc[0][0]"
   ]
  },
  {
   "cell_type": "code",
   "execution_count": 144,
   "id": "9ae6c43c-2f0b-4031-8853-675b8d2c2fe2",
   "metadata": {},
   "outputs": [
    {
     "data": {
      "text/plain": [
       "1755977322"
      ]
     },
     "execution_count": 144,
     "metadata": {},
     "output_type": "execute_result"
    }
   ],
   "source": [
    "df_tidy['string_list_data'].iloc[0][0]['timestamp']"
   ]
  },
  {
   "cell_type": "code",
   "execution_count": 145,
   "id": "bf3c8395-0f06-4e64-b6c5-5fd73e38ce8b",
   "metadata": {},
   "outputs": [
    {
     "data": {
      "text/plain": [
       "'https://www.instagram.com/p/DNqQcFutzri/'"
      ]
     },
     "execution_count": 145,
     "metadata": {},
     "output_type": "execute_result"
    }
   ],
   "source": [
    "df_tidy['string_list_data'].iloc[0][0]['href']"
   ]
  },
  {
   "cell_type": "code",
   "execution_count": 146,
   "id": "7acabaae-a00a-47e5-9310-5bc2bc2c64ea",
   "metadata": {},
   "outputs": [
    {
     "data": {
      "text/html": [
       "<div>\n",
       "<style scoped>\n",
       "    .dataframe tbody tr th:only-of-type {\n",
       "        vertical-align: middle;\n",
       "    }\n",
       "\n",
       "    .dataframe tbody tr th {\n",
       "        vertical-align: top;\n",
       "    }\n",
       "\n",
       "    .dataframe thead th {\n",
       "        text-align: right;\n",
       "    }\n",
       "</style>\n",
       "<table border=\"1\" class=\"dataframe\">\n",
       "  <thead>\n",
       "    <tr style=\"text-align: right;\">\n",
       "      <th></th>\n",
       "      <th>title</th>\n",
       "      <th>string_list_data</th>\n",
       "      <th>Time of Like</th>\n",
       "    </tr>\n",
       "  </thead>\n",
       "  <tbody>\n",
       "    <tr>\n",
       "      <th>0</th>\n",
       "      <td>alex.polisoto</td>\n",
       "      <td>[{'href': 'https://www.instagram.com/p/DNqQcFu...</td>\n",
       "      <td>1755977322</td>\n",
       "    </tr>\n",
       "    <tr>\n",
       "      <th>1</th>\n",
       "      <td>champagnepapi</td>\n",
       "      <td>[{'href': 'https://www.instagram.com/reel/DNqi...</td>\n",
       "      <td>1755882323</td>\n",
       "    </tr>\n",
       "    <tr>\n",
       "      <th>2</th>\n",
       "      <td>yankeesavenue</td>\n",
       "      <td>[{'href': 'https://www.instagram.com/reel/DNmH...</td>\n",
       "      <td>1755788920</td>\n",
       "    </tr>\n",
       "    <tr>\n",
       "      <th>3</th>\n",
       "      <td>emmagiuliano3</td>\n",
       "      <td>[{'href': 'https://www.instagram.com/p/DNmdFVJ...</td>\n",
       "      <td>1755785985</td>\n",
       "    </tr>\n",
       "    <tr>\n",
       "      <th>4</th>\n",
       "      <td>yankeesavenue</td>\n",
       "      <td>[{'href': 'https://www.instagram.com/reel/DNma...</td>\n",
       "      <td>1755743638</td>\n",
       "    </tr>\n",
       "  </tbody>\n",
       "</table>\n",
       "</div>"
      ],
      "text/plain": [
       "           title                                   string_list_data  \\\n",
       "0  alex.polisoto  [{'href': 'https://www.instagram.com/p/DNqQcFu...   \n",
       "1  champagnepapi  [{'href': 'https://www.instagram.com/reel/DNqi...   \n",
       "2  yankeesavenue  [{'href': 'https://www.instagram.com/reel/DNmH...   \n",
       "3  emmagiuliano3  [{'href': 'https://www.instagram.com/p/DNmdFVJ...   \n",
       "4  yankeesavenue  [{'href': 'https://www.instagram.com/reel/DNma...   \n",
       "\n",
       "   Time of Like  \n",
       "0    1755977322  \n",
       "1    1755882323  \n",
       "2    1755788920  \n",
       "3    1755785985  \n",
       "4    1755743638  "
      ]
     },
     "execution_count": 146,
     "metadata": {},
     "output_type": "execute_result"
    }
   ],
   "source": [
    "df_tidy['Time of Like'] = [i[0]['timestamp'] for i in df_tidy['string_list_data']]\n",
    "df_tidy.head()"
   ]
  },
  {
   "cell_type": "markdown",
   "id": "e6430b80-f941-41f4-b442-d25c6034e0b3",
   "metadata": {},
   "source": [
    "## Turning Timestamp into a Real Date"
   ]
  },
  {
   "cell_type": "code",
   "execution_count": 147,
   "id": "5cb0f926-91ed-4fa6-b777-5c7959e5a833",
   "metadata": {},
   "outputs": [],
   "source": [
    "from datetime import datetime\n",
    "df_tidy['Date of Like']= [datetime.fromtimestamp(i[0]['timestamp'])for i in df_tidy['string_list_data']]"
   ]
  },
  {
   "cell_type": "code",
   "execution_count": 148,
   "id": "3a3b74c5-9444-49f3-a4ca-1b4ba8684082",
   "metadata": {},
   "outputs": [
    {
     "data": {
      "text/html": [
       "<div>\n",
       "<style scoped>\n",
       "    .dataframe tbody tr th:only-of-type {\n",
       "        vertical-align: middle;\n",
       "    }\n",
       "\n",
       "    .dataframe tbody tr th {\n",
       "        vertical-align: top;\n",
       "    }\n",
       "\n",
       "    .dataframe thead th {\n",
       "        text-align: right;\n",
       "    }\n",
       "</style>\n",
       "<table border=\"1\" class=\"dataframe\">\n",
       "  <thead>\n",
       "    <tr style=\"text-align: right;\">\n",
       "      <th></th>\n",
       "      <th>title</th>\n",
       "      <th>string_list_data</th>\n",
       "      <th>Time of Like</th>\n",
       "      <th>Date of Like</th>\n",
       "    </tr>\n",
       "  </thead>\n",
       "  <tbody>\n",
       "    <tr>\n",
       "      <th>0</th>\n",
       "      <td>alex.polisoto</td>\n",
       "      <td>[{'href': 'https://www.instagram.com/p/DNqQcFu...</td>\n",
       "      <td>1755977322</td>\n",
       "      <td>2025-08-23 15:28:42</td>\n",
       "    </tr>\n",
       "    <tr>\n",
       "      <th>1</th>\n",
       "      <td>champagnepapi</td>\n",
       "      <td>[{'href': 'https://www.instagram.com/reel/DNqi...</td>\n",
       "      <td>1755882323</td>\n",
       "      <td>2025-08-22 13:05:23</td>\n",
       "    </tr>\n",
       "    <tr>\n",
       "      <th>2</th>\n",
       "      <td>yankeesavenue</td>\n",
       "      <td>[{'href': 'https://www.instagram.com/reel/DNmH...</td>\n",
       "      <td>1755788920</td>\n",
       "      <td>2025-08-21 11:08:40</td>\n",
       "    </tr>\n",
       "    <tr>\n",
       "      <th>3</th>\n",
       "      <td>emmagiuliano3</td>\n",
       "      <td>[{'href': 'https://www.instagram.com/p/DNmdFVJ...</td>\n",
       "      <td>1755785985</td>\n",
       "      <td>2025-08-21 10:19:45</td>\n",
       "    </tr>\n",
       "    <tr>\n",
       "      <th>4</th>\n",
       "      <td>yankeesavenue</td>\n",
       "      <td>[{'href': 'https://www.instagram.com/reel/DNma...</td>\n",
       "      <td>1755743638</td>\n",
       "      <td>2025-08-20 22:33:58</td>\n",
       "    </tr>\n",
       "  </tbody>\n",
       "</table>\n",
       "</div>"
      ],
      "text/plain": [
       "           title                                   string_list_data  \\\n",
       "0  alex.polisoto  [{'href': 'https://www.instagram.com/p/DNqQcFu...   \n",
       "1  champagnepapi  [{'href': 'https://www.instagram.com/reel/DNqi...   \n",
       "2  yankeesavenue  [{'href': 'https://www.instagram.com/reel/DNmH...   \n",
       "3  emmagiuliano3  [{'href': 'https://www.instagram.com/p/DNmdFVJ...   \n",
       "4  yankeesavenue  [{'href': 'https://www.instagram.com/reel/DNma...   \n",
       "\n",
       "   Time of Like        Date of Like  \n",
       "0    1755977322 2025-08-23 15:28:42  \n",
       "1    1755882323 2025-08-22 13:05:23  \n",
       "2    1755788920 2025-08-21 11:08:40  \n",
       "3    1755785985 2025-08-21 10:19:45  \n",
       "4    1755743638 2025-08-20 22:33:58  "
      ]
     },
     "execution_count": 148,
     "metadata": {},
     "output_type": "execute_result"
    }
   ],
   "source": [
    "df_tidy.head()"
   ]
  },
  {
   "cell_type": "code",
   "execution_count": 149,
   "id": "7d90abf9-5e0a-404c-82b4-d05a6d6a7b43",
   "metadata": {},
   "outputs": [
    {
     "data": {
      "text/html": [
       "<div>\n",
       "<style scoped>\n",
       "    .dataframe tbody tr th:only-of-type {\n",
       "        vertical-align: middle;\n",
       "    }\n",
       "\n",
       "    .dataframe tbody tr th {\n",
       "        vertical-align: top;\n",
       "    }\n",
       "\n",
       "    .dataframe thead th {\n",
       "        text-align: right;\n",
       "    }\n",
       "</style>\n",
       "<table border=\"1\" class=\"dataframe\">\n",
       "  <thead>\n",
       "    <tr style=\"text-align: right;\">\n",
       "      <th></th>\n",
       "      <th>title</th>\n",
       "      <th>string_list_data</th>\n",
       "      <th>Time of Like</th>\n",
       "      <th>Date of Like</th>\n",
       "      <th>href</th>\n",
       "    </tr>\n",
       "  </thead>\n",
       "  <tbody>\n",
       "    <tr>\n",
       "      <th>0</th>\n",
       "      <td>alex.polisoto</td>\n",
       "      <td>[{'href': 'https://www.instagram.com/p/DNqQcFu...</td>\n",
       "      <td>1755977322</td>\n",
       "      <td>2025-08-23 15:28:42</td>\n",
       "      <td>https://www.instagram.com/p/DNqQcFutzri/</td>\n",
       "    </tr>\n",
       "    <tr>\n",
       "      <th>1</th>\n",
       "      <td>champagnepapi</td>\n",
       "      <td>[{'href': 'https://www.instagram.com/reel/DNqi...</td>\n",
       "      <td>1755882323</td>\n",
       "      <td>2025-08-22 13:05:23</td>\n",
       "      <td>https://www.instagram.com/reel/DNqiP--R5vc/</td>\n",
       "    </tr>\n",
       "    <tr>\n",
       "      <th>2</th>\n",
       "      <td>yankeesavenue</td>\n",
       "      <td>[{'href': 'https://www.instagram.com/reel/DNmH...</td>\n",
       "      <td>1755788920</td>\n",
       "      <td>2025-08-21 11:08:40</td>\n",
       "      <td>https://www.instagram.com/reel/DNmHYmSReCW/</td>\n",
       "    </tr>\n",
       "    <tr>\n",
       "      <th>3</th>\n",
       "      <td>emmagiuliano3</td>\n",
       "      <td>[{'href': 'https://www.instagram.com/p/DNmdFVJ...</td>\n",
       "      <td>1755785985</td>\n",
       "      <td>2025-08-21 10:19:45</td>\n",
       "      <td>https://www.instagram.com/p/DNmdFVJscY9/</td>\n",
       "    </tr>\n",
       "    <tr>\n",
       "      <th>4</th>\n",
       "      <td>yankeesavenue</td>\n",
       "      <td>[{'href': 'https://www.instagram.com/reel/DNma...</td>\n",
       "      <td>1755743638</td>\n",
       "      <td>2025-08-20 22:33:58</td>\n",
       "      <td>https://www.instagram.com/reel/DNmaJVBsv1S/</td>\n",
       "    </tr>\n",
       "  </tbody>\n",
       "</table>\n",
       "</div>"
      ],
      "text/plain": [
       "           title                                   string_list_data  \\\n",
       "0  alex.polisoto  [{'href': 'https://www.instagram.com/p/DNqQcFu...   \n",
       "1  champagnepapi  [{'href': 'https://www.instagram.com/reel/DNqi...   \n",
       "2  yankeesavenue  [{'href': 'https://www.instagram.com/reel/DNmH...   \n",
       "3  emmagiuliano3  [{'href': 'https://www.instagram.com/p/DNmdFVJ...   \n",
       "4  yankeesavenue  [{'href': 'https://www.instagram.com/reel/DNma...   \n",
       "\n",
       "   Time of Like        Date of Like  \\\n",
       "0    1755977322 2025-08-23 15:28:42   \n",
       "1    1755882323 2025-08-22 13:05:23   \n",
       "2    1755788920 2025-08-21 11:08:40   \n",
       "3    1755785985 2025-08-21 10:19:45   \n",
       "4    1755743638 2025-08-20 22:33:58   \n",
       "\n",
       "                                          href  \n",
       "0     https://www.instagram.com/p/DNqQcFutzri/  \n",
       "1  https://www.instagram.com/reel/DNqiP--R5vc/  \n",
       "2  https://www.instagram.com/reel/DNmHYmSReCW/  \n",
       "3     https://www.instagram.com/p/DNmdFVJscY9/  \n",
       "4  https://www.instagram.com/reel/DNmaJVBsv1S/  "
      ]
     },
     "execution_count": 149,
     "metadata": {},
     "output_type": "execute_result"
    }
   ],
   "source": [
    "df_tidy['href']= [(i[0]['href'])for i in df_tidy['string_list_data']]\n",
    "df_tidy.head()"
   ]
  },
  {
   "cell_type": "code",
   "execution_count": 150,
   "id": "b983e8f0-fff1-43f4-8f8d-d509ab90b2bf",
   "metadata": {},
   "outputs": [
    {
     "data": {
      "text/html": [
       "<div>\n",
       "<style scoped>\n",
       "    .dataframe tbody tr th:only-of-type {\n",
       "        vertical-align: middle;\n",
       "    }\n",
       "\n",
       "    .dataframe tbody tr th {\n",
       "        vertical-align: top;\n",
       "    }\n",
       "\n",
       "    .dataframe thead th {\n",
       "        text-align: right;\n",
       "    }\n",
       "</style>\n",
       "<table border=\"1\" class=\"dataframe\">\n",
       "  <thead>\n",
       "    <tr style=\"text-align: right;\">\n",
       "      <th></th>\n",
       "      <th>title</th>\n",
       "      <th>string_list_data</th>\n",
       "      <th>Time of Like</th>\n",
       "      <th>Date of Like</th>\n",
       "      <th>href</th>\n",
       "      <th>value</th>\n",
       "    </tr>\n",
       "  </thead>\n",
       "  <tbody>\n",
       "    <tr>\n",
       "      <th>0</th>\n",
       "      <td>alex.polisoto</td>\n",
       "      <td>[{'href': 'https://www.instagram.com/p/DNqQcFu...</td>\n",
       "      <td>1755977322</td>\n",
       "      <td>2025-08-23 15:28:42</td>\n",
       "      <td>https://www.instagram.com/p/DNqQcFutzri/</td>\n",
       "      <td>ð</td>\n",
       "    </tr>\n",
       "    <tr>\n",
       "      <th>1</th>\n",
       "      <td>champagnepapi</td>\n",
       "      <td>[{'href': 'https://www.instagram.com/reel/DNqi...</td>\n",
       "      <td>1755882323</td>\n",
       "      <td>2025-08-22 13:05:23</td>\n",
       "      <td>https://www.instagram.com/reel/DNqiP--R5vc/</td>\n",
       "      <td>ð</td>\n",
       "    </tr>\n",
       "    <tr>\n",
       "      <th>2</th>\n",
       "      <td>yankeesavenue</td>\n",
       "      <td>[{'href': 'https://www.instagram.com/reel/DNmH...</td>\n",
       "      <td>1755788920</td>\n",
       "      <td>2025-08-21 11:08:40</td>\n",
       "      <td>https://www.instagram.com/reel/DNmHYmSReCW/</td>\n",
       "      <td>ð</td>\n",
       "    </tr>\n",
       "    <tr>\n",
       "      <th>3</th>\n",
       "      <td>emmagiuliano3</td>\n",
       "      <td>[{'href': 'https://www.instagram.com/p/DNmdFVJ...</td>\n",
       "      <td>1755785985</td>\n",
       "      <td>2025-08-21 10:19:45</td>\n",
       "      <td>https://www.instagram.com/p/DNmdFVJscY9/</td>\n",
       "      <td>ð</td>\n",
       "    </tr>\n",
       "    <tr>\n",
       "      <th>4</th>\n",
       "      <td>yankeesavenue</td>\n",
       "      <td>[{'href': 'https://www.instagram.com/reel/DNma...</td>\n",
       "      <td>1755743638</td>\n",
       "      <td>2025-08-20 22:33:58</td>\n",
       "      <td>https://www.instagram.com/reel/DNmaJVBsv1S/</td>\n",
       "      <td>ð</td>\n",
       "    </tr>\n",
       "  </tbody>\n",
       "</table>\n",
       "</div>"
      ],
      "text/plain": [
       "           title                                   string_list_data  \\\n",
       "0  alex.polisoto  [{'href': 'https://www.instagram.com/p/DNqQcFu...   \n",
       "1  champagnepapi  [{'href': 'https://www.instagram.com/reel/DNqi...   \n",
       "2  yankeesavenue  [{'href': 'https://www.instagram.com/reel/DNmH...   \n",
       "3  emmagiuliano3  [{'href': 'https://www.instagram.com/p/DNmdFVJ...   \n",
       "4  yankeesavenue  [{'href': 'https://www.instagram.com/reel/DNma...   \n",
       "\n",
       "   Time of Like        Date of Like  \\\n",
       "0    1755977322 2025-08-23 15:28:42   \n",
       "1    1755882323 2025-08-22 13:05:23   \n",
       "2    1755788920 2025-08-21 11:08:40   \n",
       "3    1755785985 2025-08-21 10:19:45   \n",
       "4    1755743638 2025-08-20 22:33:58   \n",
       "\n",
       "                                          href value  \n",
       "0     https://www.instagram.com/p/DNqQcFutzri/  ð  \n",
       "1  https://www.instagram.com/reel/DNqiP--R5vc/  ð  \n",
       "2  https://www.instagram.com/reel/DNmHYmSReCW/  ð  \n",
       "3     https://www.instagram.com/p/DNmdFVJscY9/  ð  \n",
       "4  https://www.instagram.com/reel/DNmaJVBsv1S/  ð  "
      ]
     },
     "execution_count": 150,
     "metadata": {},
     "output_type": "execute_result"
    }
   ],
   "source": [
    "df_tidy['value']= [(i[0]['value'])for i in df_tidy['string_list_data']]\n",
    "df_tidy.head()\n"
   ]
  },
  {
   "cell_type": "code",
   "execution_count": 151,
   "id": "81c09bad-2382-428e-8212-86ecd7b8d3c6",
   "metadata": {},
   "outputs": [
    {
     "data": {
      "text/html": [
       "<div>\n",
       "<style scoped>\n",
       "    .dataframe tbody tr th:only-of-type {\n",
       "        vertical-align: middle;\n",
       "    }\n",
       "\n",
       "    .dataframe tbody tr th {\n",
       "        vertical-align: top;\n",
       "    }\n",
       "\n",
       "    .dataframe thead th {\n",
       "        text-align: right;\n",
       "    }\n",
       "</style>\n",
       "<table border=\"1\" class=\"dataframe\">\n",
       "  <thead>\n",
       "    <tr style=\"text-align: right;\">\n",
       "      <th></th>\n",
       "      <th>title</th>\n",
       "      <th>Time of Like</th>\n",
       "      <th>Date of Like</th>\n",
       "      <th>href</th>\n",
       "      <th>value</th>\n",
       "    </tr>\n",
       "  </thead>\n",
       "  <tbody>\n",
       "    <tr>\n",
       "      <th>0</th>\n",
       "      <td>alex.polisoto</td>\n",
       "      <td>1755977322</td>\n",
       "      <td>2025-08-23 15:28:42</td>\n",
       "      <td>https://www.instagram.com/p/DNqQcFutzri/</td>\n",
       "      <td>ð</td>\n",
       "    </tr>\n",
       "    <tr>\n",
       "      <th>1</th>\n",
       "      <td>champagnepapi</td>\n",
       "      <td>1755882323</td>\n",
       "      <td>2025-08-22 13:05:23</td>\n",
       "      <td>https://www.instagram.com/reel/DNqiP--R5vc/</td>\n",
       "      <td>ð</td>\n",
       "    </tr>\n",
       "    <tr>\n",
       "      <th>2</th>\n",
       "      <td>yankeesavenue</td>\n",
       "      <td>1755788920</td>\n",
       "      <td>2025-08-21 11:08:40</td>\n",
       "      <td>https://www.instagram.com/reel/DNmHYmSReCW/</td>\n",
       "      <td>ð</td>\n",
       "    </tr>\n",
       "    <tr>\n",
       "      <th>3</th>\n",
       "      <td>emmagiuliano3</td>\n",
       "      <td>1755785985</td>\n",
       "      <td>2025-08-21 10:19:45</td>\n",
       "      <td>https://www.instagram.com/p/DNmdFVJscY9/</td>\n",
       "      <td>ð</td>\n",
       "    </tr>\n",
       "    <tr>\n",
       "      <th>4</th>\n",
       "      <td>yankeesavenue</td>\n",
       "      <td>1755743638</td>\n",
       "      <td>2025-08-20 22:33:58</td>\n",
       "      <td>https://www.instagram.com/reel/DNmaJVBsv1S/</td>\n",
       "      <td>ð</td>\n",
       "    </tr>\n",
       "    <tr>\n",
       "      <th>...</th>\n",
       "      <td>...</td>\n",
       "      <td>...</td>\n",
       "      <td>...</td>\n",
       "      <td>...</td>\n",
       "      <td>...</td>\n",
       "    </tr>\n",
       "    <tr>\n",
       "      <th>2046</th>\n",
       "      <td>suhrefx</td>\n",
       "      <td>1724613189</td>\n",
       "      <td>2024-08-25 15:13:09</td>\n",
       "      <td>https://www.instagram.com/reel/C-7uvb5xOJx/</td>\n",
       "      <td>ð</td>\n",
       "    </tr>\n",
       "    <tr>\n",
       "      <th>2047</th>\n",
       "      <td>touchdownmission</td>\n",
       "      <td>1724613148</td>\n",
       "      <td>2024-08-25 15:12:28</td>\n",
       "      <td>https://www.instagram.com/reel/C-WpzoLRQKs/</td>\n",
       "      <td>ð</td>\n",
       "    </tr>\n",
       "    <tr>\n",
       "      <th>2048</th>\n",
       "      <td>victoroladipo</td>\n",
       "      <td>1724612667</td>\n",
       "      <td>2024-08-25 15:04:27</td>\n",
       "      <td>https://www.instagram.com/p/C-LPd6bORKY/</td>\n",
       "      <td>ð</td>\n",
       "    </tr>\n",
       "    <tr>\n",
       "      <th>2049</th>\n",
       "      <td>jordangoodrich.3</td>\n",
       "      <td>1724612640</td>\n",
       "      <td>2024-08-25 15:04:00</td>\n",
       "      <td>https://www.instagram.com/reel/C-TkJVdys0t/</td>\n",
       "      <td>ð</td>\n",
       "    </tr>\n",
       "    <tr>\n",
       "      <th>2050</th>\n",
       "      <td>madehoops</td>\n",
       "      <td>1724612633</td>\n",
       "      <td>2024-08-25 15:03:53</td>\n",
       "      <td>https://www.instagram.com/reel/C8a4uQsN3y9/</td>\n",
       "      <td>ð</td>\n",
       "    </tr>\n",
       "  </tbody>\n",
       "</table>\n",
       "<p>2051 rows × 5 columns</p>\n",
       "</div>"
      ],
      "text/plain": [
       "                 title  Time of Like        Date of Like  \\\n",
       "0        alex.polisoto    1755977322 2025-08-23 15:28:42   \n",
       "1        champagnepapi    1755882323 2025-08-22 13:05:23   \n",
       "2        yankeesavenue    1755788920 2025-08-21 11:08:40   \n",
       "3        emmagiuliano3    1755785985 2025-08-21 10:19:45   \n",
       "4        yankeesavenue    1755743638 2025-08-20 22:33:58   \n",
       "...                ...           ...                 ...   \n",
       "2046           suhrefx    1724613189 2024-08-25 15:13:09   \n",
       "2047  touchdownmission    1724613148 2024-08-25 15:12:28   \n",
       "2048     victoroladipo    1724612667 2024-08-25 15:04:27   \n",
       "2049  jordangoodrich.3    1724612640 2024-08-25 15:04:00   \n",
       "2050         madehoops    1724612633 2024-08-25 15:03:53   \n",
       "\n",
       "                                             href value  \n",
       "0        https://www.instagram.com/p/DNqQcFutzri/  ð  \n",
       "1     https://www.instagram.com/reel/DNqiP--R5vc/  ð  \n",
       "2     https://www.instagram.com/reel/DNmHYmSReCW/  ð  \n",
       "3        https://www.instagram.com/p/DNmdFVJscY9/  ð  \n",
       "4     https://www.instagram.com/reel/DNmaJVBsv1S/  ð  \n",
       "...                                           ...   ...  \n",
       "2046  https://www.instagram.com/reel/C-7uvb5xOJx/  ð  \n",
       "2047  https://www.instagram.com/reel/C-WpzoLRQKs/  ð  \n",
       "2048     https://www.instagram.com/p/C-LPd6bORKY/  ð  \n",
       "2049  https://www.instagram.com/reel/C-TkJVdys0t/  ð  \n",
       "2050  https://www.instagram.com/reel/C8a4uQsN3y9/  ð  \n",
       "\n",
       "[2051 rows x 5 columns]"
      ]
     },
     "execution_count": 151,
     "metadata": {},
     "output_type": "execute_result"
    }
   ],
   "source": [
    "df_tidy.drop(columns = ['string_list_data'])"
   ]
  },
  {
   "cell_type": "markdown",
   "id": "e95245b3-3a73-4786-bb80-911ef6679ed3",
   "metadata": {},
   "source": [
    "## Section 5"
   ]
  },
  {
   "cell_type": "code",
   "execution_count": 152,
   "id": "b9579b3a-5421-4912-a21f-30eaf2c7f671",
   "metadata": {},
   "outputs": [
    {
     "data": {
      "text/html": [
       "<div>\n",
       "<style scoped>\n",
       "    .dataframe tbody tr th:only-of-type {\n",
       "        vertical-align: middle;\n",
       "    }\n",
       "\n",
       "    .dataframe tbody tr th {\n",
       "        vertical-align: top;\n",
       "    }\n",
       "\n",
       "    .dataframe thead th {\n",
       "        text-align: right;\n",
       "    }\n",
       "</style>\n",
       "<table border=\"1\" class=\"dataframe\">\n",
       "  <thead>\n",
       "    <tr style=\"text-align: right;\">\n",
       "      <th></th>\n",
       "      <th>string_list_data</th>\n",
       "      <th>Time of Like</th>\n",
       "      <th>Date of Like</th>\n",
       "      <th>href</th>\n",
       "      <th>value</th>\n",
       "    </tr>\n",
       "    <tr>\n",
       "      <th>title</th>\n",
       "      <th></th>\n",
       "      <th></th>\n",
       "      <th></th>\n",
       "      <th></th>\n",
       "      <th></th>\n",
       "    </tr>\n",
       "  </thead>\n",
       "  <tbody>\n",
       "    <tr>\n",
       "      <th>yankeesavenue</th>\n",
       "      <td>154</td>\n",
       "      <td>154</td>\n",
       "      <td>154</td>\n",
       "      <td>154</td>\n",
       "      <td>154</td>\n",
       "    </tr>\n",
       "    <tr>\n",
       "      <th>kentstwbb</th>\n",
       "      <td>95</td>\n",
       "      <td>95</td>\n",
       "      <td>95</td>\n",
       "      <td>95</td>\n",
       "      <td>95</td>\n",
       "    </tr>\n",
       "    <tr>\n",
       "      <th>ajvitanza</th>\n",
       "      <td>88</td>\n",
       "      <td>88</td>\n",
       "      <td>88</td>\n",
       "      <td>88</td>\n",
       "      <td>88</td>\n",
       "    </tr>\n",
       "    <tr>\n",
       "      <th>nfl</th>\n",
       "      <td>86</td>\n",
       "      <td>86</td>\n",
       "      <td>86</td>\n",
       "      <td>86</td>\n",
       "      <td>86</td>\n",
       "    </tr>\n",
       "    <tr>\n",
       "      <th>gradyferrick</th>\n",
       "      <td>66</td>\n",
       "      <td>66</td>\n",
       "      <td>66</td>\n",
       "      <td>66</td>\n",
       "      <td>66</td>\n",
       "    </tr>\n",
       "    <tr>\n",
       "      <th>...</th>\n",
       "      <td>...</td>\n",
       "      <td>...</td>\n",
       "      <td>...</td>\n",
       "      <td>...</td>\n",
       "      <td>...</td>\n",
       "    </tr>\n",
       "    <tr>\n",
       "      <th>golfoncbs</th>\n",
       "      <td>1</td>\n",
       "      <td>1</td>\n",
       "      <td>1</td>\n",
       "      <td>1</td>\n",
       "      <td>1</td>\n",
       "    </tr>\n",
       "    <tr>\n",
       "      <th>golfbet</th>\n",
       "      <td>1</td>\n",
       "      <td>1</td>\n",
       "      <td>1</td>\n",
       "      <td>1</td>\n",
       "      <td>1</td>\n",
       "    </tr>\n",
       "    <tr>\n",
       "      <th>globeseye</th>\n",
       "      <td>1</td>\n",
       "      <td>1</td>\n",
       "      <td>1</td>\n",
       "      <td>1</td>\n",
       "      <td>1</td>\n",
       "    </tr>\n",
       "    <tr>\n",
       "      <th>gelo</th>\n",
       "      <td>1</td>\n",
       "      <td>1</td>\n",
       "      <td>1</td>\n",
       "      <td>1</td>\n",
       "      <td>1</td>\n",
       "    </tr>\n",
       "    <tr>\n",
       "      <th>julietcolville</th>\n",
       "      <td>1</td>\n",
       "      <td>1</td>\n",
       "      <td>1</td>\n",
       "      <td>1</td>\n",
       "      <td>1</td>\n",
       "    </tr>\n",
       "  </tbody>\n",
       "</table>\n",
       "<p>711 rows × 5 columns</p>\n",
       "</div>"
      ],
      "text/plain": [
       "                string_list_data  Time of Like  Date of Like  href  value\n",
       "title                                                                    \n",
       "yankeesavenue                154           154           154   154    154\n",
       "kentstwbb                     95            95            95    95     95\n",
       "ajvitanza                     88            88            88    88     88\n",
       "nfl                           86            86            86    86     86\n",
       "gradyferrick                  66            66            66    66     66\n",
       "...                          ...           ...           ...   ...    ...\n",
       "golfoncbs                      1             1             1     1      1\n",
       "golfbet                        1             1             1     1      1\n",
       "globeseye                      1             1             1     1      1\n",
       "gelo                           1             1             1     1      1\n",
       "julietcolville                 1             1             1     1      1\n",
       "\n",
       "[711 rows x 5 columns]"
      ]
     },
     "execution_count": 152,
     "metadata": {},
     "output_type": "execute_result"
    }
   ],
   "source": [
    "df_tidy.groupby('title').count().sort_values('value', ascending=False)"
   ]
  },
  {
   "cell_type": "markdown",
   "id": "d670be1a-6e90-4efa-b094-75181dd6130e",
   "metadata": {},
   "source": [
    "## I have a hypothesis that a majority of people who comment on my instagram posts are repeat commenters. I think this is due to them being my friends and them often interacting with my posts because of this. Statistically I plan to resort my data into a datase, then create variables for people who liked my post once compared to multiple times. And then find results by using a bar plot to see if my hypothesis is correct."
   ]
  },
  {
   "cell_type": "code",
   "execution_count": 153,
   "id": "01e113ad-6720-4ef5-bf6c-419e8dabe5c8",
   "metadata": {},
   "outputs": [],
   "source": [
    "path_comments = r\"/Users/dylandoyle-rowan/Downloads/Instagram/your_instagram_activity/comments/post_comments_1.json\"\n",
    "with open(path_comments) as j:\n",
    "    data = json.load(j)"
   ]
  },
  {
   "cell_type": "markdown",
   "id": "db7429a6-8840-409a-b397-ef761e121de2",
   "metadata": {},
   "source": [
    "## This code is the comments and users who left the comments with the time they left them at and the comment that they left "
   ]
  },
  {
   "cell_type": "markdown",
   "id": "fbbeab4c-6589-473a-bad5-dabe3cc2e4e1",
   "metadata": {},
   "source": [
    "## Found Youtube Video on this code, helped me restructure data for easier analysis. Learned that records creates an empty list, the for loop goes through data and extracts comment text, username and the timestamp! Basically creates a dictionary that stores the users name, their comment, and the timestamp which I wont need for this specific analysis because I am only testing repeat commentors compared to solo. To summarize the code that Im writing(for comments), It grabs the key string map data from the json file, .get(\"comment\"){}.get(\"value\", None) gets the comment value if there is one, if not it returns an empty dictionary value due to {}, instead of crashing."
   ]
  },
  {
   "cell_type": "code",
   "execution_count": 154,
   "id": "6909930b-94a0-4fe5-8e91-37d7b9450b85",
   "metadata": {},
   "outputs": [],
   "source": [
    "records = []\n",
    "\n",
    "for entry in data:\n",
    "    comment = entry[\"string_map_data\"].get(\"Comment\", {}).get(\"value\", None)\n",
    "    owner = entry[\"string_map_data\"].get(\"Media Owner\", {}).get(\"value\", None)\n",
    "    ts = entry[\"string_map_data\"].get(\"Time\", {}).get(\"timestamp\", None)\n",
    "\n",
    "    if ts is not None:  \n",
    "        records.append({\n",
    "            \"user\": owner,\n",
    "            \"comment\": comment,\n",
    "            \"timestamp\": ts\n",
    "        })\n"
   ]
  },
  {
   "cell_type": "code",
   "execution_count": 155,
   "id": "1f14fc70-2363-424a-8ea8-442b00ae1eb7",
   "metadata": {},
   "outputs": [],
   "source": [
    "comments = pd.DataFrame(records)"
   ]
  },
  {
   "cell_type": "code",
   "execution_count": 156,
   "id": "822b1a5c-40c7-4ce8-b752-471a46a7fb03",
   "metadata": {},
   "outputs": [
    {
     "data": {
      "text/html": [
       "<div>\n",
       "<style scoped>\n",
       "    .dataframe tbody tr th:only-of-type {\n",
       "        vertical-align: middle;\n",
       "    }\n",
       "\n",
       "    .dataframe tbody tr th {\n",
       "        vertical-align: top;\n",
       "    }\n",
       "\n",
       "    .dataframe thead th {\n",
       "        text-align: right;\n",
       "    }\n",
       "</style>\n",
       "<table border=\"1\" class=\"dataframe\">\n",
       "  <thead>\n",
       "    <tr style=\"text-align: right;\">\n",
       "      <th></th>\n",
       "      <th>user</th>\n",
       "      <th>comment</th>\n",
       "      <th>timestamp</th>\n",
       "    </tr>\n",
       "  </thead>\n",
       "  <tbody>\n",
       "    <tr>\n",
       "      <th>0</th>\n",
       "      <td>ajvitanza</td>\n",
       "      <td>ð¶ð¶ð¶</td>\n",
       "      <td>1755112245</td>\n",
       "    </tr>\n",
       "    <tr>\n",
       "      <th>1</th>\n",
       "      <td>yanaazub</td>\n",
       "      <td>None</td>\n",
       "      <td>1754797828</td>\n",
       "    </tr>\n",
       "    <tr>\n",
       "      <th>2</th>\n",
       "      <td>ryanstoeckel_</td>\n",
       "      <td>Ccb featured</td>\n",
       "      <td>1753657771</td>\n",
       "    </tr>\n",
       "    <tr>\n",
       "      <th>3</th>\n",
       "      <td>ryanstoeckel_</td>\n",
       "      <td>ðð</td>\n",
       "      <td>1753652566</td>\n",
       "    </tr>\n",
       "    <tr>\n",
       "      <th>4</th>\n",
       "      <td>chrismosherr</td>\n",
       "      <td>ðð</td>\n",
       "      <td>1752458309</td>\n",
       "    </tr>\n",
       "  </tbody>\n",
       "</table>\n",
       "</div>"
      ],
      "text/plain": [
       "            user       comment   timestamp\n",
       "0      ajvitanza  ð¶ð¶ð¶  1755112245\n",
       "1       yanaazub          None  1754797828\n",
       "2  ryanstoeckel_  Ccb featured  1753657771\n",
       "3  ryanstoeckel_      ðð  1753652566\n",
       "4   chrismosherr      ðð  1752458309"
      ]
     },
     "execution_count": 156,
     "metadata": {},
     "output_type": "execute_result"
    }
   ],
   "source": [
    "comments.head()"
   ]
  },
  {
   "cell_type": "code",
   "execution_count": 157,
   "id": "9af1b509-3b05-46f7-abed-b07b7af8bf4c",
   "metadata": {},
   "outputs": [
    {
     "name": "stdout",
     "output_type": "stream",
     "text": [
      "            user       comment   timestamp\n",
      "0      ajvitanza  ð¶ð¶ð¶  1755112245\n",
      "1       yanaazub          None  1754797828\n",
      "2  ryanstoeckel_  Ccb featured  1753657771\n",
      "3  ryanstoeckel_      ðð  1753652566\n",
      "4   chrismosherr      ðð  1752458309\n"
     ]
    }
   ],
   "source": [
    "print(comments.head())"
   ]
  },
  {
   "cell_type": "code",
   "execution_count": 158,
   "id": "05db5b9f-3b84-4bbd-8406-e963b8f19904",
   "metadata": {},
   "outputs": [
    {
     "name": "stdout",
     "output_type": "stream",
     "text": [
      "            user       comment   timestamp\n",
      "0      ajvitanza  ð¶ð¶ð¶  1755112245\n",
      "1       yanaazub          None  1754797828\n",
      "2  ryanstoeckel_  Ccb featured  1753657771\n",
      "3  ryanstoeckel_      ðð  1753652566\n",
      "4   chrismosherr      ðð  1752458309\n"
     ]
    }
   ],
   "source": [
    "print(comments.head())"
   ]
  },
  {
   "cell_type": "code",
   "execution_count": 159,
   "id": "d690b69a-572e-4f9f-8a2b-07d363e30e82",
   "metadata": {},
   "outputs": [],
   "source": [
    "user_count_comments = comments ['user'].value_counts()"
   ]
  },
  {
   "cell_type": "markdown",
   "id": "34c675b6-028f-45dd-92bc-08664c48ecf6",
   "metadata": {},
   "source": [
    "## This next line creates a boolean value which if the count is 1 its true, elsewhat false,  .sum counts how many users have commented just once, the code after this next line is the same but for counting multiple comments."
   ]
  },
  {
   "cell_type": "code",
   "execution_count": 160,
   "id": "cd13f4f6-cba8-4154-af93-6d12005b2fcc",
   "metadata": {},
   "outputs": [],
   "source": [
    "one_time = (user_count_comments ==1).sum()\n",
    "multi_time = (user_count_comments >1).sum()"
   ]
  },
  {
   "cell_type": "code",
   "execution_count": 161,
   "id": "d4852030-bd18-4591-8d67-02317499405d",
   "metadata": {},
   "outputs": [
    {
     "name": "stdout",
     "output_type": "stream",
     "text": [
      "Users that only commented once: 27\n"
     ]
    }
   ],
   "source": [
    "print(\"Users that only commented once:\",one_time)"
   ]
  },
  {
   "cell_type": "code",
   "execution_count": 162,
   "id": "2a596e48-5c11-4829-b2bf-a1a9253c1767",
   "metadata": {},
   "outputs": [
    {
     "name": "stdout",
     "output_type": "stream",
     "text": [
      "Users with Multiple comments: 17\n"
     ]
    }
   ],
   "source": [
    "print(\"Users with Multiple comments:\",multi_time)"
   ]
  },
  {
   "cell_type": "code",
   "execution_count": 163,
   "id": "03e53fbc-5814-4a33-9313-44d6d34a8ea4",
   "metadata": {},
   "outputs": [],
   "source": [
    "import matplotlib.pyplot as plt"
   ]
  },
  {
   "cell_type": "code",
   "execution_count": 164,
   "id": "c4c87149-f0ab-49af-b63e-ee39572c1d76",
   "metadata": {},
   "outputs": [
    {
     "data": {
      "image/png": "[encoded data removed]",
      "text/plain": [
       "<Figure size 640x480 with 1 Axes>"
      ]
     },
     "metadata": {},
     "output_type": "display_data"
    }
   ],
   "source": [
    "plt.bar(\n",
    "    ['One-time Commenters', 'Repeat Commenters'],  \n",
    "    [one_time, multi_time],                        \n",
    "    color=['gold', 'skyblue']                    \n",
    ")\n",
    "plt.title(\"How Users Comment More Than Once?\")\n",
    "plt.ylabel(\"Number of Users\")\n",
    "plt.show()"
   ]
  },
  {
   "cell_type": "markdown",
   "id": "87634443-cc15-4c11-a05d-1da7940d031c",
   "metadata": {},
   "source": [
    "## My Hypothesis was wrong! I am really suprised that I have more one time commenters than repeat commenters. I figured since most of my friends comment on my post that their would be more repeat commenters, but I am wrong. If I had to guess why Im wrong I'd say that there are a ton of people I have posted with in group photos that I am sort of friends with but not on the level of friends where they comment on my other posts that they are not tagged in!"
   ]
  },
  {
   "cell_type": "code",
   "execution_count": null,
   "id": "1003494d-3de3-4267-ae3b-96436ad97eb8",
   "metadata": {},
   "outputs": [],
   "source": []
  }
 ],
 "metadata": {
  "kernelspec": {
   "display_name": "Python 3 (ipykernel)",
   "language": "python",
   "name": "python3"
  },
  "language_info": {
   "codemirror_mode": {
    "name": "ipython",
    "version": 3
   },
   "file_extension": ".py",
   "mimetype": "text/x-python",
   "name": "python",
   "nbconvert_exporter": "python",
   "pygments_lexer": "ipython3",
   "version": "3.12.11"
  }
 },
 "nbformat": 4,
 "nbformat_minor": 5
}
